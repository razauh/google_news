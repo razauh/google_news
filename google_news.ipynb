{
 "cells": [
  {
   "cell_type": "code",
   "execution_count": 1,
   "metadata": {},
   "outputs": [
    {
     "name": "stderr",
     "output_type": "stream",
     "text": [
      "c:\\Users\\Raza\\.conda\\envs\\analytics\\lib\\site-packages\\_distutils_hack\\__init__.py:33: UserWarning: Setuptools is replacing distutils.\n",
      "  warnings.warn(\"Setuptools is replacing distutils.\")\n"
     ]
    }
   ],
   "source": [
    "# from pygooglenews import GoogleNews\n",
    "import pandas as pd\n",
    "from newspaper import Article\n",
    "from newspaper import Config\n",
    "from contextlib import suppress\n",
    "from gnews import GNews\n",
    "\n",
    "# gn = GoogleNews()"
   ]
  },
  {
   "cell_type": "code",
   "execution_count": 3,
   "metadata": {},
   "outputs": [],
   "source": [
    "def get_links(search_key):\n",
    "    google_news = GNews()\n",
    "    news_links = google_news.get_news(search_key)\n",
    "    df_news = pd.DataFrame(news_links)\n",
    "    df_news['search_term'] = search_key\n",
    "    return df_news"
   ]
  },
  {
   "cell_type": "code",
   "execution_count": 4,
   "metadata": {},
   "outputs": [],
   "source": [
    "# search_key = 'qatar'\n",
    "# google_news = GNews()\n",
    "# news_links = google_news.get_news('fifa')\n",
    "# df_news = pd.DataFrame(news_links)\n",
    "# # df_news['search_term'] = search_key"
   ]
  },
  {
   "cell_type": "code",
   "execution_count": 5,
   "metadata": {},
   "outputs": [],
   "source": [
    "# news_links"
   ]
  },
  {
   "cell_type": "code",
   "execution_count": 6,
   "metadata": {},
   "outputs": [],
   "source": [
    "def extract_news(search_term):\n",
    "    df_news = get_links(search_term)  \n",
    "    with suppress(Exception):\n",
    "        news_list=[]\n",
    "        for ind in df_news.index:\n",
    "            news_dict={}\n",
    "            article = Article(df_news['url'][ind])\n",
    "            article.download()\n",
    "            # print(article)\n",
    "            article.parse()\n",
    "            # print(article)\n",
    "            article.nlp()\n",
    "            news_dict['date']=df_news['published date'][ind]\n",
    "            news_dict['source'] = df_news['publisher'][ind]\n",
    "            news_dict['link'] = df_news['url'][ind]\n",
    "            news_dict['search_term'] = df_news['search_term'][ind]\n",
    "            news_dict['title']=article.title\n",
    "            news_dict['article']=article.text\n",
    "            # news_dict['Summary']=article.summary\n",
    "\n",
    "            news_list.append(dict)\n",
    "            # print(news_list)\n",
    "            \n",
    "\n",
    "            news_df=pd.DataFrame(news_dict)\n",
    "            # # time.sleep(5)\n",
    "\n",
    "            news_df.to_csv(\"articles.csv\", mode = 'a', index = False, encoding='utf-8', header = False)\n",
    "        # news = pd.DataFrame(news_list)\n",
    "        # news.to_csv('news_articles.csv', encodinf='utf-8', index=False, mode='a')"
   ]
  },
  {
   "cell_type": "code",
   "execution_count": 7,
   "metadata": {},
   "outputs": [
    {
     "name": "stderr",
     "output_type": "stream",
     "text": [
      "c:\\Users\\Raza\\.conda\\envs\\analytics\\lib\\site-packages\\scipy\\__init__.py:146: UserWarning: A NumPy version >=1.16.5 and <1.23.0 is required for this version of SciPy (detected version 1.23.4\n",
      "  warnings.warn(f\"A NumPy version >={np_minversion} and <{np_maxversion}\"\n"
     ]
    }
   ],
   "source": [
    "if __name__ == \"__main__\":\n",
    "    # [\"qatar\", \"fifa\", 'fifa world cup', 'football', 'football world cup' 'soccer', 'soccer world cup']\n",
    "    trends_names = [\"qatar\", \"fifa\", 'fifa world cup', 'football', 'football world cup' 'soccer', 'soccer world cup']\n",
    "    for search_term in trends_names:\n",
    "        extract_news(search_term)"
   ]
  },
  {
   "cell_type": "code",
   "execution_count": null,
   "metadata": {},
   "outputs": [],
   "source": []
  }
 ],
 "metadata": {
  "kernelspec": {
   "display_name": "Python 3.9.13 ('analytics')",
   "language": "python",
   "name": "python3"
  },
  "language_info": {
   "codemirror_mode": {
    "name": "ipython",
    "version": 3
   },
   "file_extension": ".py",
   "mimetype": "text/x-python",
   "name": "python",
   "nbconvert_exporter": "python",
   "pygments_lexer": "ipython3",
   "version": "3.9.13"
  },
  "orig_nbformat": 4,
  "vscode": {
   "interpreter": {
    "hash": "6728a459311f4804961137434455c621ed012136d45ef7cb331531f85fe05641"
   }
  }
 },
 "nbformat": 4,
 "nbformat_minor": 2
}
